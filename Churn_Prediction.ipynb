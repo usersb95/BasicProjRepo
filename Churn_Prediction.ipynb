{
  "nbformat": 4,
  "nbformat_minor": 0,
  "metadata": {
    "colab": {
      "name": "Churn_Prediction.ipynb",
      "provenance": [],
      "collapsed_sections": [],
      "toc_visible": true
    },
    "kernelspec": {
      "name": "python3",
      "display_name": "Python 3"
    }
  },
  "cells": [
    {
      "cell_type": "markdown",
      "metadata": {
        "id": "lP6JLo1tGNBg"
      },
      "source": [
        "# Artificial Neural Network"
      ]
    },
    {
      "cell_type": "markdown",
      "metadata": {
        "id": "gWZyYmS_UE_L"
      },
      "source": [
        "### Importing the libraries"
      ]
    },
    {
      "cell_type": "code",
      "metadata": {
        "id": "MxkJoQBkUIHC"
      },
      "source": [
        "import numpy as np\n",
        "import pandas as pd\n",
        "import tensorflow as tf"
      ],
      "execution_count": 1,
      "outputs": []
    },
    {
      "cell_type": "code",
      "metadata": {
        "id": "ZaTwK7ojXr2F",
        "colab": {
          "base_uri": "https://localhost:8080/",
          "height": 35
        },
        "outputId": "9e35070f-b327-44d6-cdfe-2839c4526522"
      },
      "source": [
        "tf.__version__"
      ],
      "execution_count": 2,
      "outputs": [
        {
          "output_type": "execute_result",
          "data": {
            "application/vnd.google.colaboratory.intrinsic+json": {
              "type": "string"
            },
            "text/plain": [
              "'2.3.0'"
            ]
          },
          "metadata": {
            "tags": []
          },
          "execution_count": 2
        }
      ]
    },
    {
      "cell_type": "markdown",
      "metadata": {
        "id": "1E0Q3aoKUCRX"
      },
      "source": [
        "## Part 1 - Data Preprocessing"
      ]
    },
    {
      "cell_type": "markdown",
      "metadata": {
        "id": "cKWAkFVGUU0Z"
      },
      "source": [
        "### Importing the dataset"
      ]
    },
    {
      "cell_type": "code",
      "metadata": {
        "id": "MXUkhkMfU4wq"
      },
      "source": [
        "dataset = pd.read_csv('Churn_Modelling.csv')\n",
        "X = dataset.iloc[:, 3:-1].values\n",
        "y = dataset.iloc[:, -1].values"
      ],
      "execution_count": 3,
      "outputs": []
    },
    {
      "cell_type": "code",
      "metadata": {
        "id": "VYP9cQTWbzuI",
        "colab": {
          "base_uri": "https://localhost:8080/"
        },
        "outputId": "3bd9ad82-efc6-4b3c-bb4a-2245d3f67d26"
      },
      "source": [
        "print(X)"
      ],
      "execution_count": 4,
      "outputs": [
        {
          "output_type": "stream",
          "text": [
            "[[619 'France' 'Female' ... 1 1 101348.88]\n",
            " [608 'Spain' 'Female' ... 0 1 112542.58]\n",
            " [502 'France' 'Female' ... 1 0 113931.57]\n",
            " ...\n",
            " [709 'France' 'Female' ... 0 1 42085.58]\n",
            " [772 'Germany' 'Male' ... 1 0 92888.52]\n",
            " [792 'France' 'Female' ... 1 0 38190.78]]\n"
          ],
          "name": "stdout"
        }
      ]
    },
    {
      "cell_type": "code",
      "metadata": {
        "id": "38vKGE6Nb2RR",
        "colab": {
          "base_uri": "https://localhost:8080/"
        },
        "outputId": "24ad1f86-de9c-4365-881c-bbc09b1a7f21"
      },
      "source": [
        "print(y)"
      ],
      "execution_count": 5,
      "outputs": [
        {
          "output_type": "stream",
          "text": [
            "[1 0 1 ... 1 1 0]\n"
          ],
          "name": "stdout"
        }
      ]
    },
    {
      "cell_type": "markdown",
      "metadata": {
        "id": "N6bQ0UgSU-NJ"
      },
      "source": [
        "### Encoding categorical data"
      ]
    },
    {
      "cell_type": "markdown",
      "metadata": {
        "id": "le5MJreAbW52"
      },
      "source": [
        "Label Encoding the \"Gender\" column"
      ]
    },
    {
      "cell_type": "code",
      "metadata": {
        "id": "PxVKWXxLbczC"
      },
      "source": [
        "from sklearn.preprocessing import LabelEncoder\n",
        "le = LabelEncoder()\n",
        "X[:, 2] = le.fit_transform(X[:, 2])"
      ],
      "execution_count": 6,
      "outputs": []
    },
    {
      "cell_type": "code",
      "metadata": {
        "id": "-M1KboxFb6OO",
        "colab": {
          "base_uri": "https://localhost:8080/"
        },
        "outputId": "76ceec06-7bdf-4bdb-f6ab-c1fed2afcd0a"
      },
      "source": [
        "print(X)"
      ],
      "execution_count": 7,
      "outputs": [
        {
          "output_type": "stream",
          "text": [
            "[[619 'France' 0 ... 1 1 101348.88]\n",
            " [608 'Spain' 0 ... 0 1 112542.58]\n",
            " [502 'France' 0 ... 1 0 113931.57]\n",
            " ...\n",
            " [709 'France' 0 ... 0 1 42085.58]\n",
            " [772 'Germany' 1 ... 1 0 92888.52]\n",
            " [792 'France' 0 ... 1 0 38190.78]]\n"
          ],
          "name": "stdout"
        }
      ]
    },
    {
      "cell_type": "markdown",
      "metadata": {
        "id": "CUxGZezpbMcb"
      },
      "source": [
        "One Hot Encoding the \"Geography\" column"
      ]
    },
    {
      "cell_type": "code",
      "metadata": {
        "id": "AMXC8-KMVirw"
      },
      "source": [
        "from sklearn.compose import ColumnTransformer\n",
        "from sklearn.preprocessing import OneHotEncoder\n",
        "ct = ColumnTransformer(transformers=[('encoder', OneHotEncoder(), [1])], remainder='passthrough')\n",
        "X = np.array(ct.fit_transform(X))"
      ],
      "execution_count": 8,
      "outputs": []
    },
    {
      "cell_type": "code",
      "metadata": {
        "id": "ZcxwEon-b8nV",
        "colab": {
          "base_uri": "https://localhost:8080/",
          "height": 137
        },
        "outputId": "23a98af4-5e33-4b26-c27b-f06e3c5d2baf"
      },
      "source": [
        "print(X)"
      ],
      "execution_count": null,
      "outputs": [
        {
          "output_type": "stream",
          "text": [
            "[[1.0 0.0 0.0 ... 1 1 101348.88]\n",
            " [0.0 0.0 1.0 ... 0 1 112542.58]\n",
            " [1.0 0.0 0.0 ... 1 0 113931.57]\n",
            " ...\n",
            " [1.0 0.0 0.0 ... 0 1 42085.58]\n",
            " [0.0 1.0 0.0 ... 1 0 92888.52]\n",
            " [1.0 0.0 0.0 ... 1 0 38190.78]]\n"
          ],
          "name": "stdout"
        }
      ]
    },
    {
      "cell_type": "markdown",
      "metadata": {
        "id": "vHol938cW8zd"
      },
      "source": [
        "### Splitting the dataset into the Training set and Test set"
      ]
    },
    {
      "cell_type": "code",
      "metadata": {
        "id": "Z-TDt0Y_XEfc"
      },
      "source": [
        "from sklearn.model_selection import train_test_split\n",
        "X_train, X_test, y_train, y_test = train_test_split(X, y, test_size = 0.2, random_state = 0)"
      ],
      "execution_count": 9,
      "outputs": []
    },
    {
      "cell_type": "markdown",
      "metadata": {
        "id": "RE_FcHyfV3TQ"
      },
      "source": [
        "### Feature Scaling"
      ]
    },
    {
      "cell_type": "code",
      "metadata": {
        "id": "ViCrE00rV8Sk"
      },
      "source": [
        "from sklearn.preprocessing import StandardScaler\n",
        "sc = StandardScaler()\n",
        "X_train = sc.fit_transform(X_train)\n",
        "X_test = sc.transform(X_test)"
      ],
      "execution_count": 10,
      "outputs": []
    },
    {
      "cell_type": "markdown",
      "metadata": {
        "id": "-zfEzkRVXIwF"
      },
      "source": [
        "## Part 2 - Building the ANN"
      ]
    },
    {
      "cell_type": "markdown",
      "metadata": {
        "id": "KvdeScabXtlB"
      },
      "source": [
        "### Initializing the ANN"
      ]
    },
    {
      "cell_type": "code",
      "metadata": {
        "id": "3dtrScHxXQox"
      },
      "source": [
        "ann = tf.keras.models.Sequential()"
      ],
      "execution_count": 11,
      "outputs": []
    },
    {
      "cell_type": "markdown",
      "metadata": {
        "id": "rP6urV6SX7kS"
      },
      "source": [
        "### Adding the input layer and the first hidden layer"
      ]
    },
    {
      "cell_type": "code",
      "metadata": {
        "id": "bppGycBXYCQr"
      },
      "source": [
        "ann.add(tf.keras.layers.Dense(units=6, activation='relu'))"
      ],
      "execution_count": 12,
      "outputs": []
    },
    {
      "cell_type": "markdown",
      "metadata": {
        "id": "BELWAc_8YJze"
      },
      "source": [
        "### Adding the second hidden layer"
      ]
    },
    {
      "cell_type": "code",
      "metadata": {
        "id": "JneR0u0sYRTd"
      },
      "source": [
        "ann.add(tf.keras.layers.Dense(units=6, activation='relu'))"
      ],
      "execution_count": 13,
      "outputs": []
    },
    {
      "cell_type": "markdown",
      "metadata": {
        "id": "OyNEe6RXYcU4"
      },
      "source": [
        "### Adding the output layer"
      ]
    },
    {
      "cell_type": "code",
      "metadata": {
        "id": "Cn3x41RBYfvY"
      },
      "source": [
        "ann.add(tf.keras.layers.Dense(units=1, activation='sigmoid'))"
      ],
      "execution_count": 14,
      "outputs": []
    },
    {
      "cell_type": "markdown",
      "metadata": {
        "id": "JT4u2S1_Y4WG"
      },
      "source": [
        "## Part 3 - Training the ANN"
      ]
    },
    {
      "cell_type": "markdown",
      "metadata": {
        "id": "8GWlJChhY_ZI"
      },
      "source": [
        "### Compiling the ANN"
      ]
    },
    {
      "cell_type": "code",
      "metadata": {
        "id": "fG3RrwDXZEaS"
      },
      "source": [
        "ann.compile(optimizer = 'adam', loss = 'binary_crossentropy', metrics = ['accuracy'])"
      ],
      "execution_count": 15,
      "outputs": []
    },
    {
      "cell_type": "markdown",
      "metadata": {
        "id": "0QR_G5u7ZLSM"
      },
      "source": [
        "### Training the ANN on the Training set"
      ]
    },
    {
      "cell_type": "code",
      "metadata": {
        "id": "nHZ-LKv_ZRb3",
        "colab": {
          "base_uri": "https://localhost:8080/"
        },
        "outputId": "a371de6a-21d2-46fc-87f1-1df49d056f6d"
      },
      "source": [
        "ann.fit(X_train, y_train, batch_size = 32, epochs = 100)"
      ],
      "execution_count": 16,
      "outputs": [
        {
          "output_type": "stream",
          "text": [
            "Epoch 1/100\n",
            "250/250 [==============================] - 0s 923us/step - loss: 0.5727 - accuracy: 0.7770\n",
            "Epoch 2/100\n",
            "250/250 [==============================] - 0s 877us/step - loss: 0.4873 - accuracy: 0.7960\n",
            "Epoch 3/100\n",
            "250/250 [==============================] - 0s 904us/step - loss: 0.4564 - accuracy: 0.7960\n",
            "Epoch 4/100\n",
            "250/250 [==============================] - 0s 938us/step - loss: 0.4429 - accuracy: 0.7960\n",
            "Epoch 5/100\n",
            "250/250 [==============================] - 0s 876us/step - loss: 0.4369 - accuracy: 0.7960\n",
            "Epoch 6/100\n",
            "250/250 [==============================] - 0s 871us/step - loss: 0.4337 - accuracy: 0.7960\n",
            "Epoch 7/100\n",
            "250/250 [==============================] - 0s 890us/step - loss: 0.4312 - accuracy: 0.7960\n",
            "Epoch 8/100\n",
            "250/250 [==============================] - 0s 907us/step - loss: 0.4291 - accuracy: 0.7960\n",
            "Epoch 9/100\n",
            "250/250 [==============================] - 0s 938us/step - loss: 0.4270 - accuracy: 0.7960\n",
            "Epoch 10/100\n",
            "250/250 [==============================] - 0s 892us/step - loss: 0.4249 - accuracy: 0.7960\n",
            "Epoch 11/100\n",
            "250/250 [==============================] - 0s 902us/step - loss: 0.4229 - accuracy: 0.7960\n",
            "Epoch 12/100\n",
            "250/250 [==============================] - 0s 861us/step - loss: 0.4204 - accuracy: 0.8031\n",
            "Epoch 13/100\n",
            "250/250 [==============================] - 0s 892us/step - loss: 0.4183 - accuracy: 0.8186\n",
            "Epoch 14/100\n",
            "250/250 [==============================] - 0s 872us/step - loss: 0.4160 - accuracy: 0.8195\n",
            "Epoch 15/100\n",
            "250/250 [==============================] - 0s 875us/step - loss: 0.4138 - accuracy: 0.8236\n",
            "Epoch 16/100\n",
            "250/250 [==============================] - 0s 884us/step - loss: 0.4113 - accuracy: 0.8251\n",
            "Epoch 17/100\n",
            "250/250 [==============================] - 0s 884us/step - loss: 0.4092 - accuracy: 0.8309\n",
            "Epoch 18/100\n",
            "250/250 [==============================] - 0s 888us/step - loss: 0.4063 - accuracy: 0.8316\n",
            "Epoch 19/100\n",
            "250/250 [==============================] - 0s 928us/step - loss: 0.4034 - accuracy: 0.8324\n",
            "Epoch 20/100\n",
            "250/250 [==============================] - 0s 890us/step - loss: 0.3988 - accuracy: 0.8326\n",
            "Epoch 21/100\n",
            "250/250 [==============================] - 0s 930us/step - loss: 0.3938 - accuracy: 0.8367\n",
            "Epoch 22/100\n",
            "250/250 [==============================] - 0s 881us/step - loss: 0.3863 - accuracy: 0.8411\n",
            "Epoch 23/100\n",
            "250/250 [==============================] - 0s 890us/step - loss: 0.3777 - accuracy: 0.8446\n",
            "Epoch 24/100\n",
            "250/250 [==============================] - 0s 859us/step - loss: 0.3697 - accuracy: 0.8482\n",
            "Epoch 25/100\n",
            "250/250 [==============================] - 0s 901us/step - loss: 0.3628 - accuracy: 0.8525\n",
            "Epoch 26/100\n",
            "250/250 [==============================] - 0s 977us/step - loss: 0.3576 - accuracy: 0.8526\n",
            "Epoch 27/100\n",
            "250/250 [==============================] - 0s 902us/step - loss: 0.3539 - accuracy: 0.8569\n",
            "Epoch 28/100\n",
            "250/250 [==============================] - 0s 868us/step - loss: 0.3510 - accuracy: 0.8572\n",
            "Epoch 29/100\n",
            "250/250 [==============================] - 0s 884us/step - loss: 0.3486 - accuracy: 0.8600\n",
            "Epoch 30/100\n",
            "250/250 [==============================] - 0s 872us/step - loss: 0.3470 - accuracy: 0.8599\n",
            "Epoch 31/100\n",
            "250/250 [==============================] - 0s 934us/step - loss: 0.3458 - accuracy: 0.8597\n",
            "Epoch 32/100\n",
            "250/250 [==============================] - 0s 867us/step - loss: 0.3446 - accuracy: 0.8604\n",
            "Epoch 33/100\n",
            "250/250 [==============================] - 0s 891us/step - loss: 0.3439 - accuracy: 0.8622\n",
            "Epoch 34/100\n",
            "250/250 [==============================] - 0s 884us/step - loss: 0.3432 - accuracy: 0.8616\n",
            "Epoch 35/100\n",
            "250/250 [==============================] - 0s 867us/step - loss: 0.3425 - accuracy: 0.8609\n",
            "Epoch 36/100\n",
            "250/250 [==============================] - 0s 865us/step - loss: 0.3417 - accuracy: 0.8616\n",
            "Epoch 37/100\n",
            "250/250 [==============================] - 0s 888us/step - loss: 0.3415 - accuracy: 0.8629\n",
            "Epoch 38/100\n",
            "250/250 [==============================] - 0s 887us/step - loss: 0.3405 - accuracy: 0.8612\n",
            "Epoch 39/100\n",
            "250/250 [==============================] - 0s 915us/step - loss: 0.3400 - accuracy: 0.8612\n",
            "Epoch 40/100\n",
            "250/250 [==============================] - 0s 881us/step - loss: 0.3397 - accuracy: 0.8612\n",
            "Epoch 41/100\n",
            "250/250 [==============================] - 0s 866us/step - loss: 0.3394 - accuracy: 0.8622\n",
            "Epoch 42/100\n",
            "250/250 [==============================] - 0s 901us/step - loss: 0.3391 - accuracy: 0.8626\n",
            "Epoch 43/100\n",
            "250/250 [==============================] - 0s 947us/step - loss: 0.3388 - accuracy: 0.8620\n",
            "Epoch 44/100\n",
            "250/250 [==============================] - 0s 888us/step - loss: 0.3386 - accuracy: 0.8611\n",
            "Epoch 45/100\n",
            "250/250 [==============================] - 0s 880us/step - loss: 0.3382 - accuracy: 0.8625\n",
            "Epoch 46/100\n",
            "250/250 [==============================] - 0s 859us/step - loss: 0.3382 - accuracy: 0.8616\n",
            "Epoch 47/100\n",
            "250/250 [==============================] - 0s 898us/step - loss: 0.3379 - accuracy: 0.8599\n",
            "Epoch 48/100\n",
            "250/250 [==============================] - 0s 882us/step - loss: 0.3378 - accuracy: 0.8627\n",
            "Epoch 49/100\n",
            "250/250 [==============================] - 0s 916us/step - loss: 0.3375 - accuracy: 0.8625\n",
            "Epoch 50/100\n",
            "250/250 [==============================] - 0s 878us/step - loss: 0.3371 - accuracy: 0.8626\n",
            "Epoch 51/100\n",
            "250/250 [==============================] - 0s 869us/step - loss: 0.3372 - accuracy: 0.8631\n",
            "Epoch 52/100\n",
            "250/250 [==============================] - 0s 891us/step - loss: 0.3370 - accuracy: 0.8621\n",
            "Epoch 53/100\n",
            "250/250 [==============================] - 0s 952us/step - loss: 0.3368 - accuracy: 0.8614\n",
            "Epoch 54/100\n",
            "250/250 [==============================] - 0s 869us/step - loss: 0.3371 - accuracy: 0.8621\n",
            "Epoch 55/100\n",
            "250/250 [==============================] - 0s 877us/step - loss: 0.3366 - accuracy: 0.8629\n",
            "Epoch 56/100\n",
            "250/250 [==============================] - 0s 880us/step - loss: 0.3366 - accuracy: 0.8627\n",
            "Epoch 57/100\n",
            "250/250 [==============================] - 0s 924us/step - loss: 0.3362 - accuracy: 0.8633\n",
            "Epoch 58/100\n",
            "250/250 [==============================] - 0s 873us/step - loss: 0.3363 - accuracy: 0.8615\n",
            "Epoch 59/100\n",
            "250/250 [==============================] - 0s 915us/step - loss: 0.3361 - accuracy: 0.8614\n",
            "Epoch 60/100\n",
            "250/250 [==============================] - 0s 909us/step - loss: 0.3359 - accuracy: 0.8630\n",
            "Epoch 61/100\n",
            "250/250 [==============================] - 0s 907us/step - loss: 0.3359 - accuracy: 0.8615\n",
            "Epoch 62/100\n",
            "250/250 [==============================] - 0s 894us/step - loss: 0.3354 - accuracy: 0.8630\n",
            "Epoch 63/100\n",
            "250/250 [==============================] - 0s 887us/step - loss: 0.3354 - accuracy: 0.8622\n",
            "Epoch 64/100\n",
            "250/250 [==============================] - 0s 873us/step - loss: 0.3353 - accuracy: 0.8636\n",
            "Epoch 65/100\n",
            "250/250 [==============================] - 0s 904us/step - loss: 0.3353 - accuracy: 0.8622\n",
            "Epoch 66/100\n",
            "250/250 [==============================] - 0s 961us/step - loss: 0.3354 - accuracy: 0.8621\n",
            "Epoch 67/100\n",
            "250/250 [==============================] - 0s 888us/step - loss: 0.3349 - accuracy: 0.8612\n",
            "Epoch 68/100\n",
            "250/250 [==============================] - 0s 889us/step - loss: 0.3350 - accuracy: 0.8633\n",
            "Epoch 69/100\n",
            "250/250 [==============================] - 0s 952us/step - loss: 0.3350 - accuracy: 0.8618\n",
            "Epoch 70/100\n",
            "250/250 [==============================] - 0s 913us/step - loss: 0.3347 - accuracy: 0.8615\n",
            "Epoch 71/100\n",
            "250/250 [==============================] - 0s 864us/step - loss: 0.3350 - accuracy: 0.8618\n",
            "Epoch 72/100\n",
            "250/250 [==============================] - 0s 885us/step - loss: 0.3348 - accuracy: 0.8616\n",
            "Epoch 73/100\n",
            "250/250 [==============================] - 0s 949us/step - loss: 0.3344 - accuracy: 0.8620\n",
            "Epoch 74/100\n",
            "250/250 [==============================] - 0s 915us/step - loss: 0.3346 - accuracy: 0.8619\n",
            "Epoch 75/100\n",
            "250/250 [==============================] - 0s 883us/step - loss: 0.3345 - accuracy: 0.8606\n",
            "Epoch 76/100\n",
            "250/250 [==============================] - 0s 895us/step - loss: 0.3349 - accuracy: 0.8605\n",
            "Epoch 77/100\n",
            "250/250 [==============================] - 0s 911us/step - loss: 0.3343 - accuracy: 0.8631\n",
            "Epoch 78/100\n",
            "250/250 [==============================] - 0s 895us/step - loss: 0.3341 - accuracy: 0.8620\n",
            "Epoch 79/100\n",
            "250/250 [==============================] - 0s 913us/step - loss: 0.3343 - accuracy: 0.8614\n",
            "Epoch 80/100\n",
            "250/250 [==============================] - 0s 902us/step - loss: 0.3346 - accuracy: 0.8615\n",
            "Epoch 81/100\n",
            "250/250 [==============================] - 0s 933us/step - loss: 0.3340 - accuracy: 0.8626\n",
            "Epoch 82/100\n",
            "250/250 [==============================] - 0s 900us/step - loss: 0.3341 - accuracy: 0.8619\n",
            "Epoch 83/100\n",
            "250/250 [==============================] - 0s 908us/step - loss: 0.3340 - accuracy: 0.8612\n",
            "Epoch 84/100\n",
            "250/250 [==============================] - 0s 885us/step - loss: 0.3336 - accuracy: 0.8601\n",
            "Epoch 85/100\n",
            "250/250 [==============================] - 0s 944us/step - loss: 0.3338 - accuracy: 0.8604\n",
            "Epoch 86/100\n",
            "250/250 [==============================] - 0s 881us/step - loss: 0.3341 - accuracy: 0.8612\n",
            "Epoch 87/100\n",
            "250/250 [==============================] - 0s 927us/step - loss: 0.3339 - accuracy: 0.8602\n",
            "Epoch 88/100\n",
            "250/250 [==============================] - 0s 901us/step - loss: 0.3338 - accuracy: 0.8621\n",
            "Epoch 89/100\n",
            "250/250 [==============================] - 0s 908us/step - loss: 0.3338 - accuracy: 0.8609\n",
            "Epoch 90/100\n",
            "250/250 [==============================] - 0s 893us/step - loss: 0.3335 - accuracy: 0.8626\n",
            "Epoch 91/100\n",
            "250/250 [==============================] - 0s 897us/step - loss: 0.3338 - accuracy: 0.8619\n",
            "Epoch 92/100\n",
            "250/250 [==============================] - 0s 912us/step - loss: 0.3335 - accuracy: 0.8600\n",
            "Epoch 93/100\n",
            "250/250 [==============================] - 0s 876us/step - loss: 0.3335 - accuracy: 0.8606\n",
            "Epoch 94/100\n",
            "250/250 [==============================] - 0s 894us/step - loss: 0.3336 - accuracy: 0.8600\n",
            "Epoch 95/100\n",
            "250/250 [==============================] - 0s 904us/step - loss: 0.3334 - accuracy: 0.8609\n",
            "Epoch 96/100\n",
            "250/250 [==============================] - 0s 904us/step - loss: 0.3335 - accuracy: 0.8622\n",
            "Epoch 97/100\n",
            "250/250 [==============================] - 0s 922us/step - loss: 0.3335 - accuracy: 0.8604\n",
            "Epoch 98/100\n",
            "250/250 [==============================] - 0s 908us/step - loss: 0.3337 - accuracy: 0.8615\n",
            "Epoch 99/100\n",
            "250/250 [==============================] - 0s 954us/step - loss: 0.3334 - accuracy: 0.8610\n",
            "Epoch 100/100\n",
            "250/250 [==============================] - 0s 892us/step - loss: 0.3333 - accuracy: 0.8618\n"
          ],
          "name": "stdout"
        },
        {
          "output_type": "execute_result",
          "data": {
            "text/plain": [
              "<tensorflow.python.keras.callbacks.History at 0x7f8e04ccbfd0>"
            ]
          },
          "metadata": {
            "tags": []
          },
          "execution_count": 16
        }
      ]
    },
    {
      "cell_type": "markdown",
      "metadata": {
        "id": "tJj5k2MxZga3"
      },
      "source": [
        "## Part 4 - Making the predictions and evaluating the model"
      ]
    },
    {
      "cell_type": "markdown",
      "metadata": {
        "id": "84QFoqGYeXHL"
      },
      "source": [
        "### Predicting the result of a single observation"
      ]
    },
    {
      "cell_type": "code",
      "metadata": {
        "id": "2d8IoCCkeWGL",
        "colab": {
          "base_uri": "https://localhost:8080/"
        },
        "outputId": "7c0e8470-f09a-488c-c4a0-033ac36e2158"
      },
      "source": [
        "print(ann.predict(sc.transform([[1, 0, 0, 600, 1, 40, 3, 60000, 2, 1, 1, 50000]])) > 0.5)"
      ],
      "execution_count": 18,
      "outputs": [
        {
          "output_type": "stream",
          "text": [
            "[[False]]\n"
          ],
          "name": "stdout"
        }
      ]
    },
    {
      "cell_type": "markdown",
      "metadata": {
        "id": "I6wMhcdmJkwl"
      },
      "source": [
        "Therefore, this ANN model predicts that this customer stays in the bank!\n"
      ]
    },
    {
      "cell_type": "markdown",
      "metadata": {
        "id": "u7yx47jPZt11"
      },
      "source": [
        "### Predicting the Test set results"
      ]
    },
    {
      "cell_type": "code",
      "metadata": {
        "id": "nIyEeQdRZwgs",
        "colab": {
          "base_uri": "https://localhost:8080/"
        },
        "outputId": "38eed633-cf70-45f7-c93f-db72a7faa4a3"
      },
      "source": [
        "y_pred = ann.predict(X_test)\n",
        "y_pred = (y_pred > 0.5)\n",
        "print(np.concatenate((y_pred.reshape(len(y_pred),1), y_test.reshape(len(y_test),1)),1))"
      ],
      "execution_count": 19,
      "outputs": [
        {
          "output_type": "stream",
          "text": [
            "[[0 0]\n",
            " [0 1]\n",
            " [0 0]\n",
            " ...\n",
            " [0 0]\n",
            " [0 0]\n",
            " [0 0]]\n"
          ],
          "name": "stdout"
        }
      ]
    },
    {
      "cell_type": "markdown",
      "metadata": {
        "id": "o0oyfLWoaEGw"
      },
      "source": [
        "### Making the Confusion Matrix"
      ]
    },
    {
      "cell_type": "code",
      "metadata": {
        "id": "ci6K_r6LaF6P",
        "colab": {
          "base_uri": "https://localhost:8080/"
        },
        "outputId": "8041e317-acc2-438d-9a0b-f7f99be2e872"
      },
      "source": [
        "from sklearn.metrics import confusion_matrix, accuracy_score\n",
        "cm = confusion_matrix(y_test, y_pred)\n",
        "print(cm)\n",
        "accuracy_score(y_test, y_pred)"
      ],
      "execution_count": 20,
      "outputs": [
        {
          "output_type": "stream",
          "text": [
            "[[1538   57]\n",
            " [ 210  195]]\n"
          ],
          "name": "stdout"
        },
        {
          "output_type": "execute_result",
          "data": {
            "text/plain": [
              "0.8665"
            ]
          },
          "metadata": {
            "tags": []
          },
          "execution_count": 20
        }
      ]
    },
    {
      "cell_type": "markdown",
      "metadata": {
        "id": "SPizPomMJ_6X"
      },
      "source": [
        ""
      ]
    }
  ]
}